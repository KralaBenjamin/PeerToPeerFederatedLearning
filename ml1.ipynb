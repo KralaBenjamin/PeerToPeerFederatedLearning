{
 "cells": [
  {
   "cell_type": "code",
   "execution_count": 8,
   "metadata": {
    "tags": []
   },
   "outputs": [],
   "source": [
    "import torch\n",
    "import torch.nn as nn\n",
    "import torch.optim as optim\n",
    "from torchvision.datasets import FashionMNIST\n",
    "from torch.utils.data import DataLoader\n",
    "import torchvision.transforms as transforms\n",
    "from torch.utils.data import Dataset"
   ]
  },
  {
   "cell_type": "code",
   "execution_count": 2,
   "metadata": {
    "tags": []
   },
   "outputs": [],
   "source": [
    "# Hyperparameter\n",
    "batch_size = 64\n",
    "learning_rate = 0.001\n",
    "num_epochs = 1"
   ]
  },
  {
   "cell_type": "code",
   "execution_count": 3,
   "metadata": {
    "tags": []
   },
   "outputs": [],
   "source": [
    "\n",
    "# Laden des FashionMNIST-Datensatzes\n",
    "transform = transforms.Compose([\n",
    "    transforms.ToTensor(),\n",
    "    transforms.Normalize((0.5,), (0.5,))\n",
    "])\n",
    "\n",
    "train_dataset = FashionMNIST(root='./data', train=True, transform=transform, download=True)\n",
    "test_dataset = FashionMNIST(root='./data', train=False, transform=transform)\n",
    "\n",
    "train_loader = DataLoader(train_dataset, batch_size=batch_size, shuffle=True)\n",
    "test_loader = DataLoader(test_dataset, batch_size=batch_size, shuffle=False)\n"
   ]
  },
  {
   "cell_type": "code",
   "execution_count": 9,
   "metadata": {
    "tags": []
   },
   "outputs": [],
   "source": [
    "class ListDataset(Dataset):\n",
    "    def __init__(self, data):\n",
    "        self.data = data\n",
    "    \n",
    "    def __len__(self):\n",
    "        return len(self.data)\n",
    "    \n",
    "    def __getitem__(self, index):\n",
    "        return self.data[index]"
   ]
  },
  {
   "cell_type": "code",
   "execution_count": 20,
   "metadata": {
    "tags": []
   },
   "outputs": [],
   "source": [
    "def get_filtered_dataloader(dataset, classes):\n",
    "    filtered_list = [\n",
    "        i for i, (x, y) in enumerate(dataset) if y in classes\n",
    "    ]\n",
    "    return torch.utils.data.Subset(dataset, filtered_list)\n",
    "    \n",
    "        "
   ]
  },
  {
   "cell_type": "code",
   "execution_count": 21,
   "metadata": {
    "tags": []
   },
   "outputs": [],
   "source": [
    "filtered_dataloader = DataLoader(get_filtered_dataloader(train_dataset, [1, 2, 3]),  batch_size=batch_size, shuffle=True)"
   ]
  },
  {
   "cell_type": "code",
   "execution_count": 13,
   "metadata": {
    "tags": []
   },
   "outputs": [],
   "source": [
    "\n",
    "# LeNet Modell Definition\n",
    "class LeNet(nn.Module):\n",
    "    def __init__(self):\n",
    "        super(LeNet, self).__init__()\n",
    "        self.conv1 = nn.Conv2d(1, 20, kernel_size=5, padding=2)\n",
    "        self.conv2 = nn.Conv2d(20, 50, kernel_size=5, padding=2)\n",
    "        self.fc1 = nn.Linear(2450, 120) #800\n",
    "        self.fc2 = nn.Linear(120, 84)\n",
    "        self.fc3 = nn.Linear(84, 10)\n",
    "\n",
    "    def forward(self, x):\n",
    "        x = nn.functional.relu(self.conv1(x))\n",
    "        x = nn.functional.max_pool2d(x, 2, stride=2)\n",
    "        x = nn.functional.relu(self.conv2(x))\n",
    "        x = nn.functional.max_pool2d(x, 2, stride=2)\n",
    "        x = x.view(x.size(0), -1)\n",
    "        x = nn.functional.relu(self.fc1(x))\n",
    "        x = nn.functional.relu(self.fc2(x))\n",
    "        x = self.fc3(x)\n",
    "        return x"
   ]
  },
  {
   "cell_type": "code",
   "execution_count": 22,
   "metadata": {
    "tags": []
   },
   "outputs": [],
   "source": [
    "\n",
    "# Modellinitialisierung\n",
    "model_all = LeNet()\n",
    "\n",
    "# Verlustfunktion und Optimierer\n",
    "criterion = nn.CrossEntropyLoss()\n",
    "optimizer = optim.Adam(model.parameters(), lr=learning_rate)"
   ]
  },
  {
   "cell_type": "code",
   "execution_count": 31,
   "metadata": {
    "tags": []
   },
   "outputs": [],
   "source": [
    "\n",
    "\n",
    "\n",
    "def train_model(model, train_dataloader):\n",
    "    # Trainingsschleife\n",
    "    total_step = len(train_dataloader)#len(train_loader)\n",
    "    # Verlustfunktion und Optimierer\n",
    "    criterion = nn.CrossEntropyLoss()\n",
    "    optimizer = optim.Adam(model.parameters(), lr=learning_rate)\n",
    "    for epoch in range(num_epochs):\n",
    "        for i, (images, labels) in enumerate(train_dataloader):\n",
    "\n",
    "        #for i, (images, labels) in enumerate(train_loader):\n",
    "            # Vorwärtsdurchlauf\n",
    "            outputs = model(images)\n",
    "            loss = criterion(outputs, labels)\n",
    "\n",
    "            # Rückwärtsdurchlauf und Optimierung\n",
    "            optimizer.zero_grad()\n",
    "            loss.backward()\n",
    "            optimizer.step()\n",
    "\n",
    "            if (i + 1) % 100 == 0:\n",
    "                print('Epoch [{}/{}], Schritt [{}/{}], Loss: {:.4f}'.format(epoch + 1, num_epochs, i + 1, total_step, loss.item()))\n",
    "                \n",
    "    return model\n",
    "\n",
    "def test_model(model, test_dataloader):\n",
    "    # Testen des Modells\n",
    "    model.eval()\n",
    "    with torch.no_grad():\n",
    "        correct = 0\n",
    "        total = 0\n",
    "        for images, labels in test_loader:\n",
    "            outputs = model(images)\n",
    "            _, predicted = torch.max(outputs.data, 1)\n",
    "            total += labels.size(0)\n",
    "            correct += (predicted == labels).sum().item()\n",
    "\n",
    "        print('Genauigkeit des Modells auf Testdaten: {} %'.format(100 * correct / total))\n"
   ]
  },
  {
   "cell_type": "code",
   "execution_count": 35,
   "metadata": {
    "tags": []
   },
   "outputs": [],
   "source": [
    "model_0123 = LeNet()\n",
    "model_456 = LeNet()\n",
    "model_789 = LeNet()\n",
    "\n",
    "dataloader_0123 = DataLoader(get_filtered_dataloader(train_dataset, [0, 1, 2, 3]), batch_size=batch_size, shuffle=True)\n",
    "dataloader_456 = DataLoader(get_filtered_dataloader(train_dataset, [4, 5, 6]),  batch_size=batch_size, shuffle=True)\n",
    "dataloader_789 = DataLoader(get_filtered_dataloader(train_dataset, [7, 8, 9]),  batch_size=batch_size, shuffle=True)\n"
   ]
  },
  {
   "cell_type": "code",
   "execution_count": 36,
   "metadata": {
    "tags": []
   },
   "outputs": [
    {
     "name": "stdout",
     "output_type": "stream",
     "text": [
      "Epoch [1/1], Schritt [100/375], Loss: 0.3041\n",
      "Epoch [1/1], Schritt [200/375], Loss: 0.1666\n",
      "Epoch [1/1], Schritt [300/375], Loss: 0.2774\n",
      "Epoch [1/1], Schritt [100/282], Loss: 0.2294\n",
      "Epoch [1/1], Schritt [200/282], Loss: 0.3087\n",
      "Epoch [1/1], Schritt [100/282], Loss: 0.1628\n",
      "Epoch [1/1], Schritt [200/282], Loss: 0.0979\n"
     ]
    }
   ],
   "source": [
    "model_0123 = train_model(model_0123, dataloader_0123)\n",
    "model_456 = train_model(model_456, dataloader_456)\n",
    "model_789 = train_model(model_789, dataloader_789)\n"
   ]
  },
  {
   "cell_type": "code",
   "execution_count": 37,
   "metadata": {
    "tags": []
   },
   "outputs": [
    {
     "name": "stdout",
     "output_type": "stream",
     "text": [
      "Genauigkeit des Modells auf Testdaten: 37.64 %\n",
      "Genauigkeit des Modells auf Testdaten: 26.88 %\n",
      "Genauigkeit des Modells auf Testdaten: 28.93 %\n"
     ]
    }
   ],
   "source": [
    "test_model(model_0123, test_loader)\n",
    "test_model(model_456, test_loader)\n",
    "test_model(model_789, test_loader)"
   ]
  },
  {
   "cell_type": "code",
   "execution_count": 45,
   "metadata": {
    "tags": []
   },
   "outputs": [],
   "source": [
    "params1 = model_0123.state_dict()\n",
    "params2 = model_456.state_dict()\n",
    "\n",
    "params_mean = dict()\n",
    "for param_name in params1.keys():\n",
    "    params_mean[param_name] = torch.add(params1[param_name], params2[param_name]) / 2"
   ]
  },
  {
   "cell_type": "code",
   "execution_count": 46,
   "metadata": {
    "tags": []
   },
   "outputs": [
    {
     "data": {
      "text/plain": [
       "<All keys matched successfully>"
      ]
     },
     "execution_count": 46,
     "metadata": {},
     "output_type": "execute_result"
    }
   ],
   "source": [
    "model_avg = LeNet()\n",
    "model_avg.load_state_dict(params_mean)"
   ]
  },
  {
   "cell_type": "code",
   "execution_count": 47,
   "metadata": {
    "tags": []
   },
   "outputs": [
    {
     "name": "stdout",
     "output_type": "stream",
     "text": [
      "Genauigkeit des Modells auf Testdaten: 21.82 %\n"
     ]
    }
   ],
   "source": [
    "test_model(model_avg, test_loader)"
   ]
  },
  {
   "cell_type": "code",
   "execution_count": 57,
   "metadata": {
    "tags": []
   },
   "outputs": [],
   "source": [
    "def get_average_model(models):\n",
    "    state_dicts = [model.state_dict() for model in models]\n",
    "    state_dict_average = dict()\n",
    "    for i in range(len(state_dicts) - 1):\n",
    "        params1 = state_dicts[i]\n",
    "        params2 = state_dicts[i + 1]\n",
    "        for param_name in params1.keys():\n",
    "            state_dict_average[param_name] = torch.add(params1[param_name], params2[param_name])\n",
    "            \n",
    "    for param_name in state_dict_average.keys():\n",
    "        state_dict_average[param_name] = state_dict_average[param_name] / len(state_dicts)\n",
    "        \n",
    "    model_avg = LeNet()\n",
    "    model_avg.load_state_dict(state_dict_average)\n",
    "    \n",
    "    return model_avg"
   ]
  },
  {
   "cell_type": "code",
   "execution_count": 50,
   "metadata": {
    "tags": []
   },
   "outputs": [
    {
     "name": "stdout",
     "output_type": "stream",
     "text": [
      "Genauigkeit des Modells auf Testdaten: 21.82 %\n"
     ]
    }
   ],
   "source": [
    "model_avg = get_average_model([model_0123, model_456, model_789])\n",
    "test_model(model_avg, test_loader)"
   ]
  },
  {
   "cell_type": "code",
   "execution_count": 58,
   "metadata": {
    "tags": []
   },
   "outputs": [],
   "source": [
    "model_0123 = LeNet()\n",
    "model_456 = LeNet()\n",
    "model_789 = LeNet()"
   ]
  },
  {
   "cell_type": "code",
   "execution_count": null,
   "metadata": {
    "tags": []
   },
   "outputs": [
    {
     "name": "stdout",
     "output_type": "stream",
     "text": [
      "0\n",
      "Epoch [1/1], Schritt [100/375], Loss: 0.1850\n",
      "Epoch [1/1], Schritt [200/375], Loss: 0.1855\n",
      "Epoch [1/1], Schritt [300/375], Loss: 0.0938\n",
      "Epoch [1/1], Schritt [100/282], Loss: 0.2129\n",
      "Epoch [1/1], Schritt [200/282], Loss: 0.4150\n",
      "Epoch [1/1], Schritt [100/282], Loss: 0.2017\n",
      "Epoch [1/1], Schritt [200/282], Loss: 0.0948\n",
      "Genauigkeit des Modells auf Testdaten: 37.75 %\n",
      "Genauigkeit des Modells auf Testdaten: 27.01 %\n",
      "Genauigkeit des Modells auf Testdaten: 29.01 %\n",
      "Genauigkeit des Modells auf Testdaten: 8.6 %\n",
      "1\n",
      "Epoch [1/1], Schritt [100/375], Loss: 0.3075\n",
      "Epoch [1/1], Schritt [200/375], Loss: 0.2571\n",
      "Epoch [1/1], Schritt [300/375], Loss: 0.1237\n",
      "Epoch [1/1], Schritt [100/282], Loss: 0.2176\n",
      "Epoch [1/1], Schritt [200/282], Loss: 0.1953\n",
      "Epoch [1/1], Schritt [100/282], Loss: 0.2335\n",
      "Epoch [1/1], Schritt [200/282], Loss: 0.2013\n",
      "Genauigkeit des Modells auf Testdaten: 36.19 %\n",
      "Genauigkeit des Modells auf Testdaten: 25.23 %\n",
      "Genauigkeit des Modells auf Testdaten: 28.41 %\n",
      "Genauigkeit des Modells auf Testdaten: 20.37 %\n",
      "2\n",
      "Epoch [1/1], Schritt [100/375], Loss: 0.4898\n",
      "Epoch [1/1], Schritt [200/375], Loss: 0.2578\n",
      "Epoch [1/1], Schritt [300/375], Loss: 0.2034\n",
      "Epoch [1/1], Schritt [100/282], Loss: 0.2812\n",
      "Epoch [1/1], Schritt [200/282], Loss: 0.2064\n",
      "Epoch [1/1], Schritt [100/282], Loss: 0.0482\n",
      "Epoch [1/1], Schritt [200/282], Loss: 0.1042\n",
      "Genauigkeit des Modells auf Testdaten: 37.05 %\n"
     ]
    }
   ],
   "source": [
    "avgs = list()\n",
    "\n",
    "for i in range(3):\n",
    "    print(i)\n",
    "    model_0123 = train_model(model_0123, dataloader_0123)\n",
    "    model_456 = train_model(model_456, dataloader_456)\n",
    "    model_789 = train_model(model_789, dataloader_789)\n",
    "    \n",
    "    model_avg = get_average_model([model_0123, model_456, model_789])\n",
    "    avgs.append(model_avg.state_dict())\n",
    "    test_model(model_0123, test_loader)\n",
    "    test_model(model_456, test_loader)\n",
    "    test_model(model_789, test_loader)\n",
    "\n",
    "    test_model(model_avg, test_loader)\n",
    "    \n",
    "    model_0123.load_state_dict(model_avg.state_dict())\n",
    "    model_456.load_state_dict(model_avg.state_dict())\n",
    "    model_789.load_state_dict(model_avg.state_dict())\n",
    "\n",
    "    "
   ]
  },
  {
   "cell_type": "code",
   "execution_count": 56,
   "metadata": {
    "tags": []
   },
   "outputs": [
    {
     "name": "stdout",
     "output_type": "stream",
     "text": [
      "tensor(0.)\n",
      "tensor(0.)\n",
      "tensor(0.)\n",
      "tensor(0.)\n",
      "tensor(0.)\n",
      "tensor(0.)\n",
      "tensor(0.)\n",
      "tensor(0.)\n",
      "tensor(0.)\n",
      "tensor(0.)\n",
      "tensor(0.)\n",
      "tensor(0.)\n",
      "tensor(0.)\n",
      "tensor(0.)\n",
      "tensor(0.)\n",
      "tensor(0.)\n",
      "tensor(0.)\n",
      "tensor(0.)\n",
      "tensor(0.)\n",
      "tensor(0.)\n"
     ]
    }
   ],
   "source": [
    "for param_name in avgs[0]:\n",
    "    for i in range(len(avgs) - 1):\n",
    "        print(torch.sum(avgs[i][param_name] - avgs[i + 1][param_name] ))"
   ]
  }
 ],
 "metadata": {
  "kernelspec": {
   "display_name": "Python 3 (ipykernel)",
   "language": "python",
   "name": "python3"
  },
  "language_info": {
   "codemirror_mode": {
    "name": "ipython",
    "version": 3
   },
   "file_extension": ".py",
   "mimetype": "text/x-python",
   "name": "python",
   "nbconvert_exporter": "python",
   "pygments_lexer": "ipython3",
   "version": "3.10.10"
  }
 },
 "nbformat": 4,
 "nbformat_minor": 4
}
